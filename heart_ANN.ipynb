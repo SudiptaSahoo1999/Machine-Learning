{
 "cells": [
  {
   "cell_type": "code",
   "execution_count": 37,
   "metadata": {},
   "outputs": [],
   "source": [
    "import numpy as np\n",
    "import pandas as pd\n",
    "import tensorflow as tf"
   ]
  },
  {
   "cell_type": "code",
   "execution_count": 38,
   "metadata": {},
   "outputs": [],
   "source": [
    "dataset = pd.read_csv(r'C:\\Users\\JYOTIKA\\Desktop\\thesis\\heart1.csv')"
   ]
  },
  {
   "cell_type": "code",
   "execution_count": 39,
   "metadata": {},
   "outputs": [],
   "source": [
    "X = dataset.iloc[:, 3:-1].values\n",
    "y = dataset.iloc[:, -1].values"
   ]
  },
  {
   "cell_type": "code",
   "execution_count": 40,
   "metadata": {},
   "outputs": [
    {
     "data": {
      "text/plain": [
       "array([0, 1, 0, 0, 0, 0, 1, 0, 1, 0, 0, 0, 1, 0, 0, 0, 0, 0, 0, 0, 0, 0,\n",
       "       0, 1, 1, 0, 0, 0, 0, 1, 0, 1, 0, 0, 0, 0, 1, 0, 1, 0, 1, 0, 1, 0,\n",
       "       0, 0, 0, 0, 0, 0, 1, 0, 0, 0, 1, 0, 0, 0, 0, 0, 0, 1, 0, 0, 0, 0,\n",
       "       1, 0, 0, 0, 1, 0, 1, 0, 0, 1, 1, 0, 0, 0, 0, 0, 0, 0, 0, 1, 1, 0,\n",
       "       0, 0, 0, 0, 0, 0, 0, 1, 0, 0, 0, 0, 0, 0, 1, 1, 0, 0, 0, 1, 0, 0,\n",
       "       1, 0, 0, 0, 0, 0, 0, 0, 1, 0, 0, 0, 1, 0, 0, 0, 0, 0, 1, 1, 0, 0,\n",
       "       0, 0, 0, 1, 0, 1, 0, 1, 1, 0, 1, 0, 0, 0, 0, 0, 0, 0, 0, 0, 1, 1,\n",
       "       1, 0, 0, 0, 1, 0, 1, 0, 0, 0, 0, 0, 0, 0, 0, 0, 1, 0, 0, 0, 0, 1,\n",
       "       1, 0, 1, 0, 0, 0, 1, 1, 0, 0, 0, 0, 0, 0, 1, 0, 1, 1, 0, 1, 0, 0,\n",
       "       0, 0, 0, 0, 0, 0, 0, 0, 0, 0, 1, 0, 0, 1, 1, 1, 0, 0, 0, 0, 1, 0,\n",
       "       0, 0, 0, 0, 0, 0, 1, 0, 1, 0, 1, 1, 1, 0, 0, 0, 0, 1, 1, 0, 0, 1,\n",
       "       0, 0, 1, 1, 0, 0, 0, 0, 0, 0, 0, 0, 0, 0, 0, 1, 0, 1, 0, 0, 0, 0,\n",
       "       1, 0, 0, 0, 0, 0, 0, 0, 1, 0, 0, 0, 1, 1, 0, 0, 1, 0, 1, 1, 0, 0,\n",
       "       0, 0, 0, 0, 1, 0, 1, 0, 1, 1, 0, 0, 0, 1, 1, 1, 1], dtype=int64)"
      ]
     },
     "execution_count": 40,
     "metadata": {},
     "output_type": "execute_result"
    }
   ],
   "source": [
    "y"
   ]
  },
  {
   "cell_type": "code",
   "execution_count": 41,
   "metadata": {},
   "outputs": [],
   "source": [
    "import pandas_profiling as pp\n",
    "import warnings\n",
    "warnings.filterwarnings('ignore')\n",
    "%matplotlib inline"
   ]
  },
  {
   "cell_type": "code",
   "execution_count": 42,
   "metadata": {},
   "outputs": [],
   "source": [
    "from sklearn.model_selection import train_test_split\n",
    "X_train, X_test, y_train, y_test = train_test_split(X, y, test_size = 0.3, random_state = 0)\n",
    "#0"
   ]
  },
  {
   "cell_type": "code",
   "execution_count": 43,
   "metadata": {},
   "outputs": [],
   "source": [
    "from sklearn.preprocessing import StandardScaler\n",
    "sc = StandardScaler()\n",
    "X_train = sc.fit_transform(X_train)\n",
    "X_test = sc.transform(X_test)"
   ]
  },
  {
   "cell_type": "code",
   "execution_count": 44,
   "metadata": {},
   "outputs": [],
   "source": [
    "ann = tf.keras.models.Sequential()"
   ]
  },
  {
   "cell_type": "code",
   "execution_count": 45,
   "metadata": {},
   "outputs": [],
   "source": [
    "ann.add(tf.keras.layers.Dense(units=8, activation='relu'))"
   ]
  },
  {
   "cell_type": "code",
   "execution_count": 46,
   "metadata": {},
   "outputs": [],
   "source": [
    "ann.add(tf.keras.layers.Dense(units=8, activation='relu'))"
   ]
  },
  {
   "cell_type": "code",
   "execution_count": 47,
   "metadata": {},
   "outputs": [],
   "source": [
    "ann.add(tf.keras.layers.Dense(units=1, activation='sigmoid'))"
   ]
  },
  {
   "cell_type": "code",
   "execution_count": 48,
   "metadata": {},
   "outputs": [],
   "source": [
    "ann.compile(optimizer = 'adam', loss = 'binary_crossentropy', metrics = ['accuracy'])"
   ]
  },
  {
   "cell_type": "code",
   "execution_count": 49,
   "metadata": {},
   "outputs": [
    {
     "name": "stdout",
     "output_type": "stream",
     "text": [
      "Epoch 1/75\n",
      "7/7 [==============================] - 1s 2ms/step - loss: 0.7690 - accuracy: 0.4009\n",
      "Epoch 2/75\n",
      "7/7 [==============================] - 0s 2ms/step - loss: 0.7431 - accuracy: 0.4764\n",
      "Epoch 3/75\n",
      "7/7 [==============================] - 0s 3ms/step - loss: 0.7225 - accuracy: 0.5142\n",
      "Epoch 4/75\n",
      "7/7 [==============================] - 0s 3ms/step - loss: 0.7022 - accuracy: 0.5425\n",
      "Epoch 5/75\n",
      "7/7 [==============================] - 0s 2ms/step - loss: 0.6848 - accuracy: 0.5613\n",
      "Epoch 6/75\n",
      "7/7 [==============================] - 0s 2ms/step - loss: 0.6690 - accuracy: 0.6085\n",
      "Epoch 7/75\n",
      "7/7 [==============================] - 0s 0s/step - loss: 0.6547 - accuracy: 0.6274\n",
      "Epoch 8/75\n",
      "7/7 [==============================] - 0s 381us/step - loss: 0.6411 - accuracy: 0.6415\n",
      "Epoch 9/75\n",
      "7/7 [==============================] - 0s 1ms/step - loss: 0.6293 - accuracy: 0.6698\n",
      "Epoch 10/75\n",
      "7/7 [==============================] - 0s 3ms/step - loss: 0.6179 - accuracy: 0.6745\n",
      "Epoch 11/75\n",
      "7/7 [==============================] - 0s 3ms/step - loss: 0.6071 - accuracy: 0.6887\n",
      "Epoch 12/75\n",
      "7/7 [==============================] - 0s 3ms/step - loss: 0.5964 - accuracy: 0.7075\n",
      "Epoch 13/75\n",
      "7/7 [==============================] - 0s 3ms/step - loss: 0.5858 - accuracy: 0.7028\n",
      "Epoch 14/75\n",
      "7/7 [==============================] - 0s 2ms/step - loss: 0.5765 - accuracy: 0.7217\n",
      "Epoch 15/75\n",
      "7/7 [==============================] - 0s 2ms/step - loss: 0.5666 - accuracy: 0.7217\n",
      "Epoch 16/75\n",
      "7/7 [==============================] - 0s 2ms/step - loss: 0.5571 - accuracy: 0.7358\n",
      "Epoch 17/75\n",
      "7/7 [==============================] - 0s 2ms/step - loss: 0.5480 - accuracy: 0.7358\n",
      "Epoch 18/75\n",
      "7/7 [==============================] - 0s 0s/step - loss: 0.5389 - accuracy: 0.7406\n",
      "Epoch 19/75\n",
      "7/7 [==============================] - 0s 0s/step - loss: 0.5305 - accuracy: 0.7500\n",
      "Epoch 20/75\n",
      "7/7 [==============================] - 0s 173us/step - loss: 0.5223 - accuracy: 0.7547\n",
      "Epoch 21/75\n",
      "7/7 [==============================] - 0s 435us/step - loss: 0.5143 - accuracy: 0.7642\n",
      "Epoch 22/75\n",
      "7/7 [==============================] - 0s 998us/step - loss: 0.5067 - accuracy: 0.7594\n",
      "Epoch 23/75\n",
      "7/7 [==============================] - 0s 3ms/step - loss: 0.4996 - accuracy: 0.7594\n",
      "Epoch 24/75\n",
      "7/7 [==============================] - 0s 3ms/step - loss: 0.4930 - accuracy: 0.7642\n",
      "Epoch 25/75\n",
      "7/7 [==============================] - 0s 2ms/step - loss: 0.4863 - accuracy: 0.7689\n",
      "Epoch 26/75\n",
      "7/7 [==============================] - 0s 3ms/step - loss: 0.4803 - accuracy: 0.7736\n",
      "Epoch 27/75\n",
      "7/7 [==============================] - 0s 3ms/step - loss: 0.4742 - accuracy: 0.7736\n",
      "Epoch 28/75\n",
      "7/7 [==============================] - 0s 3ms/step - loss: 0.4688 - accuracy: 0.7736\n",
      "Epoch 29/75\n",
      "7/7 [==============================] - 0s 2ms/step - loss: 0.4631 - accuracy: 0.7736\n",
      "Epoch 30/75\n",
      "7/7 [==============================] - 0s 2ms/step - loss: 0.4580 - accuracy: 0.7783\n",
      "Epoch 31/75\n",
      "7/7 [==============================] - 0s 3ms/step - loss: 0.4532 - accuracy: 0.7783\n",
      "Epoch 32/75\n",
      "7/7 [==============================] - 0s 3ms/step - loss: 0.4485 - accuracy: 0.7830\n",
      "Epoch 33/75\n",
      "7/7 [==============================] - 0s 3ms/step - loss: 0.4437 - accuracy: 0.7972\n",
      "Epoch 34/75\n",
      "7/7 [==============================] - 0s 2ms/step - loss: 0.4393 - accuracy: 0.7925\n",
      "Epoch 35/75\n",
      "7/7 [==============================] - 0s 0s/step - loss: 0.4349 - accuracy: 0.8019\n",
      "Epoch 36/75\n",
      "7/7 [==============================] - 0s 344us/step - loss: 0.4306 - accuracy: 0.8066\n",
      "Epoch 37/75\n",
      "7/7 [==============================] - 0s 587us/step - loss: 0.4260 - accuracy: 0.8066\n",
      "Epoch 38/75\n",
      "7/7 [==============================] - 0s 3ms/step - loss: 0.4216 - accuracy: 0.8160\n",
      "Epoch 39/75\n",
      "7/7 [==============================] - 0s 3ms/step - loss: 0.4172 - accuracy: 0.8208\n",
      "Epoch 40/75\n",
      "7/7 [==============================] - 0s 2ms/step - loss: 0.4132 - accuracy: 0.8208\n",
      "Epoch 41/75\n",
      "7/7 [==============================] - 0s 3ms/step - loss: 0.4090 - accuracy: 0.8160\n",
      "Epoch 42/75\n",
      "7/7 [==============================] - 0s 3ms/step - loss: 0.4051 - accuracy: 0.8255\n",
      "Epoch 43/75\n",
      "7/7 [==============================] - 0s 3ms/step - loss: 0.4009 - accuracy: 0.8302\n",
      "Epoch 44/75\n",
      "7/7 [==============================] - 0s 3ms/step - loss: 0.3971 - accuracy: 0.8396\n",
      "Epoch 45/75\n",
      "7/7 [==============================] - 0s 2ms/step - loss: 0.3930 - accuracy: 0.8349\n",
      "Epoch 46/75\n",
      "7/7 [==============================] - 0s 3ms/step - loss: 0.3891 - accuracy: 0.8349\n",
      "Epoch 47/75\n",
      "7/7 [==============================] - 0s 3ms/step - loss: 0.3853 - accuracy: 0.8396\n",
      "Epoch 48/75\n",
      "7/7 [==============================] - 0s 3ms/step - loss: 0.3818 - accuracy: 0.8396\n",
      "Epoch 49/75\n",
      "7/7 [==============================] - 0s 3ms/step - loss: 0.3780 - accuracy: 0.8538\n",
      "Epoch 50/75\n",
      "7/7 [==============================] - 0s 3ms/step - loss: 0.3746 - accuracy: 0.8491\n",
      "Epoch 51/75\n",
      "7/7 [==============================] - 0s 2ms/step - loss: 0.3714 - accuracy: 0.8443\n",
      "Epoch 52/75\n",
      "7/7 [==============================] - 0s 3ms/step - loss: 0.3680 - accuracy: 0.8443\n",
      "Epoch 53/75\n",
      "7/7 [==============================] - 0s 2ms/step - loss: 0.3650 - accuracy: 0.8443\n",
      "Epoch 54/75\n",
      "7/7 [==============================] - 0s 298us/step - loss: 0.3621 - accuracy: 0.8443\n",
      "Epoch 55/75\n",
      "7/7 [==============================] - 0s 166us/step - loss: 0.3592 - accuracy: 0.8491\n",
      "Epoch 56/75\n",
      "7/7 [==============================] - 0s 3ms/step - loss: 0.3561 - accuracy: 0.8491\n",
      "Epoch 57/75\n",
      "7/7 [==============================] - 0s 3ms/step - loss: 0.3535 - accuracy: 0.8491\n",
      "Epoch 58/75\n",
      "7/7 [==============================] - 0s 3ms/step - loss: 0.3504 - accuracy: 0.8491\n",
      "Epoch 59/75\n",
      "7/7 [==============================] - 0s 0s/step - loss: 0.3478 - accuracy: 0.8491\n",
      "Epoch 60/75\n",
      "7/7 [==============================] - 0s 325us/step - loss: 0.3455 - accuracy: 0.8491\n",
      "Epoch 61/75\n",
      "7/7 [==============================] - 0s 3ms/step - loss: 0.3431 - accuracy: 0.8491\n",
      "Epoch 62/75\n",
      "7/7 [==============================] - 0s 3ms/step - loss: 0.3407 - accuracy: 0.8491\n",
      "Epoch 63/75\n",
      "7/7 [==============================] - 0s 2ms/step - loss: 0.3385 - accuracy: 0.8538\n",
      "Epoch 64/75\n",
      "7/7 [==============================] - 0s 0s/step - loss: 0.3364 - accuracy: 0.8538\n",
      "Epoch 65/75\n",
      "7/7 [==============================] - 0s 618us/step - loss: 0.3342 - accuracy: 0.8538\n",
      "Epoch 66/75\n",
      "7/7 [==============================] - 0s 3ms/step - loss: 0.3322 - accuracy: 0.8538\n",
      "Epoch 67/75\n",
      "7/7 [==============================] - 0s 3ms/step - loss: 0.3302 - accuracy: 0.8585\n",
      "Epoch 68/75\n",
      "7/7 [==============================] - 0s 0s/step - loss: 0.3283 - accuracy: 0.8585\n",
      "Epoch 69/75\n",
      "7/7 [==============================] - 0s 220us/step - loss: 0.3262 - accuracy: 0.8585\n",
      "Epoch 70/75\n",
      "7/7 [==============================] - 0s 3ms/step - loss: 0.3246 - accuracy: 0.8585\n",
      "Epoch 71/75\n",
      "7/7 [==============================] - 0s 3ms/step - loss: 0.3227 - accuracy: 0.8585\n",
      "Epoch 72/75\n",
      "7/7 [==============================] - 0s 2ms/step - loss: 0.3211 - accuracy: 0.8585\n",
      "Epoch 73/75\n",
      "7/7 [==============================] - 0s 0s/step - loss: 0.3193 - accuracy: 0.8585\n",
      "Epoch 74/75\n",
      "7/7 [==============================] - 0s 281us/step - loss: 0.3178 - accuracy: 0.8585\n",
      "Epoch 75/75\n",
      "7/7 [==============================] - 0s 3ms/step - loss: 0.3161 - accuracy: 0.8585\n"
     ]
    },
    {
     "data": {
      "text/plain": [
       "<keras.callbacks.History at 0x2b5761244c0>"
      ]
     },
     "execution_count": 49,
     "metadata": {},
     "output_type": "execute_result"
    }
   ],
   "source": [
    "ann.fit(X_train, y_train, batch_size = 32, epochs = 75)"
   ]
  },
  {
   "cell_type": "code",
   "execution_count": 50,
   "metadata": {},
   "outputs": [
    {
     "name": "stdout",
     "output_type": "stream",
     "text": [
      "3/3 [==============================] - 0s 8ms/step\n"
     ]
    }
   ],
   "source": [
    "y_pred = ann.predict(X_test)\n",
    "y_pred = (y_pred > 0.5)\n"
   ]
  },
  {
   "cell_type": "code",
   "execution_count": 51,
   "metadata": {},
   "outputs": [
    {
     "data": {
      "image/png": "[encoded data removed]",
      "text/plain": [
       "<Figure size 432x432 with 2 Axes>"
      ]
     },
     "metadata": {
      "needs_background": "light"
     },
     "output_type": "display_data"
    }
   ],
   "source": [
    "from sklearn.metrics import confusion_matrix\n",
    "import matplotlib.pyplot as plt\n",
    "import seaborn as sns\n",
    "cm = confusion_matrix(y_test, y_pred)\n",
    "\n",
    "\n",
    "f,ax = plt.subplots(figsize=(6, 6))\n",
    "sns.heatmap(cm, annot=True,cmap='BrBG_r',linewidths=1, linecolor='black',annot_kws={\"size\": 30}, )\n",
    "plt.ylabel('Actual label')\n",
    "plt.xlabel('Predicted label')\n",
    "#plt.title(\"ANN\\n\")\n",
    "plt.show()"
   ]
  },
  {
   "cell_type": "code",
   "execution_count": null,
   "metadata": {},
   "outputs": [],
   "source": [
    "\n"
   ]
  },
  {
   "cell_type": "code",
   "execution_count": 52,
   "metadata": {},
   "outputs": [
    {
     "name": "stdout",
     "output_type": "stream",
     "text": [
      "Testing Accuracy for ANN: 0.8021978021978022\n",
      "Testing Sensitivity for ANN: 0.8450704225352113\n",
      "Testing Specificity for ANN: 0.65\n",
      "Testing Precision for ANN: 0.8955223880597015\n"
     ]
    }
   ],
   "source": [
    "TP=cm[0][0]\n",
    "TN=cm[1][1]\n",
    "FN=cm[1][0]\n",
    "FP=cm[0][1]\n",
    "print('Testing Accuracy for ANN:',(TP+TN)/(TP+TN+FN+FP))\n",
    "print('Testing Sensitivity for ANN:',(TP/(TP+FN)))\n",
    "print('Testing Specificity for ANN:',(TN/(TN+FP)))\n",
    "print('Testing Precision for ANN:',(TP/(TP+FP)))"
   ]
  },
  {
   "cell_type": "code",
   "execution_count": null,
   "metadata": {},
   "outputs": [],
   "source": []
  },
  {
   "cell_type": "code",
   "execution_count": null,
   "metadata": {},
   "outputs": [],
   "source": []
  },
  {
   "cell_type": "code",
   "execution_count": null,
   "metadata": {},
   "outputs": [],
   "source": []
  },
  {
   "cell_type": "code",
   "execution_count": null,
   "metadata": {},
   "outputs": [],
   "source": []
  }
 ],
 "metadata": {
  "kernelspec": {
   "display_name": "Python 3",
   "language": "python",
   "name": "python3"
  },
  "language_info": {
   "codemirror_mode": {
    "name": "ipython",
    "version": 3
   },
   "file_extension": ".py",
   "mimetype": "text/x-python",
   "name": "python",
   "nbconvert_exporter": "python",
   "pygments_lexer": "ipython3",
   "version": "3.8.3"
  }
 },
 "nbformat": 4,
 "nbformat_minor": 4
}
